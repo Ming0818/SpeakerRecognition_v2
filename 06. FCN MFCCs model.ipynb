{
 "cells": [
  {
   "cell_type": "code",
   "execution_count": 1,
   "metadata": {},
   "outputs": [],
   "source": [
    "import os\n",
    "import numpy as np\n",
    "import matplotlib.pyplot as plt\n",
    "import librosa\n",
    "import librosa.display\n",
    "import IPython.display\n",
    "import tensorflow as tf"
   ]
  },
  {
   "cell_type": "code",
   "execution_count": 3,
   "metadata": {},
   "outputs": [
    {
     "name": "stdout",
     "output_type": "stream",
     "text": [
      "(50, 20, 862)\n",
      "(50, 20, 862)\n",
      "(50, 20, 862)\n",
      "(50, 20, 862)\n",
      "(50, 20, 862)\n",
      "(50, 20, 862)\n",
      "(50, 20, 862)\n",
      "(50, 20, 862)\n",
      "(50, 20, 862)\n",
      "(50, 20, 862)\n"
     ]
    }
   ],
   "source": [
    "\n",
    "data_path = './data/'\n",
    "training_number = 40\n",
    "item_num = 50\n",
    "nb_classes = 10\n",
    "test_num = 10\n",
    "\n",
    "x_data_raw = [None] * nb_classes\n",
    "y_data_raw = [None] * nb_classes\n",
    "for sub_path in range(nb_classes):\n",
    "    x_data_raw[sub_path] = []\n",
    "    y_data_raw[sub_path] = []\n",
    "    for i in range(item_num):\n",
    "        filename = data_path + str(sub_path) + '/' + \"input\" + str(i + 1) + '.wav'\n",
    "        if os.path.exists(filename):\n",
    "            raw, sr = librosa.load(filename, sr=None)\n",
    "            x_data_raw[sub_path].append(librosa.feature.mfcc(y=raw, sr=sr))\n",
    "            y_data_raw[sub_path].append(sub_path)\n",
    "    print(np.shape(x_data_raw[sub_path]))"
   ]
  },
  {
   "cell_type": "code",
   "execution_count": 4,
   "metadata": {},
   "outputs": [
    {
     "name": "stdout",
     "output_type": "stream",
     "text": [
      "(10, 50, 20, 862)\n",
      "(10, 50)\n"
     ]
    }
   ],
   "source": [
    "\n",
    "#96 X 431 사이즈\n",
    "tf.InteractiveSession().as_default()\n",
    "tf.tables_initializer().run()\n",
    "\n",
    "#train, test set 분할\n",
    "x_data = np.array(x_data_raw)\n",
    "y_data = np.array(y_data_raw)\n",
    "x_train = []\n",
    "y_train = []\n",
    "x_test = []\n",
    "y_test = []\n",
    "\n",
    "print(np.shape(x_data))\n",
    "print(np.shape(y_data))"
   ]
  },
  {
   "cell_type": "code",
   "execution_count": 5,
   "metadata": {},
   "outputs": [
    {
     "name": "stdout",
     "output_type": "stream",
     "text": [
      "(10, 40, 20, 862)\n",
      "(10, 40)\n",
      "(10, 10, 20, 862)\n",
      "(10, 10)\n"
     ]
    }
   ],
   "source": [
    "\n",
    "for i in range(nb_classes):\n",
    "    x_train.append(x_data[i][:training_number])\n",
    "    y_train.append(y_data[i][:training_number])\n",
    "    x_test.append(x_data[i][training_number:training_number+test_num])\n",
    "    y_test.append(y_data[i][training_number:training_number+test_num])\n",
    "\n",
    "print(np.shape(x_train))\n",
    "print(np.shape(y_train))\n",
    "print(np.shape(x_test))\n",
    "print(np.shape(y_test))"
   ]
  },
  {
   "cell_type": "code",
   "execution_count": 6,
   "metadata": {},
   "outputs": [
    {
     "name": "stdout",
     "output_type": "stream",
     "text": [
      "(400, 20, 862)\n",
      "(100, 20, 862)\n"
     ]
    }
   ],
   "source": [
    "x_train = np.reshape(x_train, (-1, 20, 862))\n",
    "x_test = np.reshape(x_test, (-1, 20, 862))\n",
    "\n",
    "print(np.shape(x_train))\n",
    "print(np.shape(x_test))\n"
   ]
  },
  {
   "cell_type": "code",
   "execution_count": 10,
   "metadata": {},
   "outputs": [
    {
     "name": "stdout",
     "output_type": "stream",
     "text": [
      "(68960, 100)\n",
      "(17240, 100)\n"
     ]
    }
   ],
   "source": [
    "x_train = np.reshape(x_train, (-1, 100))\n",
    "x_test = np.reshape(x_test, (-1, 100))\n",
    "\n",
    "print(np.shape(x_train))\n",
    "print(np.shape(x_test))"
   ]
  },
  {
   "cell_type": "code",
   "execution_count": 3,
   "metadata": {},
   "outputs": [],
   "source": [
    "# FCN\n",
    "\n",
    "training_number = 18000\n",
    "learning_rate = 0.0001\n",
    "\n",
    "\n",
    "with tf.variable_scope(\"sound_classifications-1-3\") as scope:\n",
    "    tf.variable_scope(scope, reuse=True)\n",
    "    \n",
    "    X = tf.placeholder(tf.float32, [None, 20])\n",
    "    Y = tf.placeholder(tf.float32, [None, nb_classes])\n",
    "\n",
    "    W1 = tf.get_variable(\"W1\", shape=[20, 500], initializer=tf.contrib.layers.xavier_initializer())\n",
    "    b1 = tf.Variable(tf.random_normal([500]))\n",
    "    L1 = tf.nn.relu(tf.matmul(X, W1) + b1)\n",
    "\n",
    "    W2 = tf.get_variable(\"W2\", shape=[500, 500], initializer=tf.contrib.layers.xavier_initializer())\n",
    "    b2 = tf.Variable(tf.random_normal([500]))\n",
    "    L2 = tf.nn.relu(tf.matmul(L1, W2) + b2)\n",
    "\n",
    "\n",
    "    W3 = tf.get_variable(\"W3\", shape=[500, nb_classes], initializer=tf.contrib.layers.xavier_initializer())\n",
    "    b3 = tf.Variable(tf.random_normal([nb_classes]))\n",
    "    hypothesis = tf.matmul(L2, W3) + b3"
   ]
  },
  {
   "cell_type": "code",
   "execution_count": 4,
   "metadata": {},
   "outputs": [
    {
     "name": "stdout",
     "output_type": "stream",
     "text": [
      "WARNING:tensorflow:From <ipython-input-4-77fb8f5bf4a3>:4: softmax_cross_entropy_with_logits (from tensorflow.python.ops.nn_ops) is deprecated and will be removed in a future version.\n",
      "Instructions for updating:\n",
      "\n",
      "Future major versions of TensorFlow will allow gradients to flow\n",
      "into the labels input on backprop by default.\n",
      "\n",
      "See @{tf.nn.softmax_cross_entropy_with_logits_v2}.\n",
      "\n",
      "WARNING:tensorflow:From <ipython-input-4-77fb8f5bf4a3>:9: arg_max (from tensorflow.python.ops.gen_math_ops) is deprecated and will be removed in a future version.\n",
      "Instructions for updating:\n",
      "Use `argmax` instead\n"
     ]
    }
   ],
   "source": [
    "# Cross entropy cost/loss\n",
    "#cost = tf.reduce_mean(-tf.reduce_sum(Y * tf.log(hypothesis), axis=1))\n",
    "\n",
    "cost = tf.reduce_mean(tf.nn.softmax_cross_entropy_with_logits(labels=Y, logits=hypothesis))\n",
    "\n",
    "optimizer = tf.train.AdamOptimizer(learning_rate=learning_rate).minimize(cost)\n",
    "\n",
    "# Accuracy\n",
    "is_correct = tf.equal(tf.arg_max(hypothesis, 1), tf.argmax(Y, 1))\n",
    "accuracy = tf.reduce_mean(tf.cast(is_correct, tf.float32))"
   ]
  },
  {
   "cell_type": "code",
   "execution_count": 5,
   "metadata": {},
   "outputs": [
    {
     "ename": "AttributeError",
     "evalue": "'list' object has no attribute 'shape'",
     "output_type": "error",
     "traceback": [
      "\u001b[1;31m---------------------------------------------------------------------------\u001b[0m",
      "\u001b[1;31mAttributeError\u001b[0m                            Traceback (most recent call last)",
      "\u001b[1;32m<ipython-input-5-d5c3cf8950db>\u001b[0m in \u001b[0;36m<module>\u001b[1;34m()\u001b[0m\n\u001b[0;32m      8\u001b[0m \u001b[1;33m\u001b[0m\u001b[0m\n\u001b[0;32m      9\u001b[0m     \u001b[1;32mfor\u001b[0m \u001b[0mepoch\u001b[0m \u001b[1;32min\u001b[0m \u001b[0mrange\u001b[0m\u001b[1;33m(\u001b[0m\u001b[0mint\u001b[0m\u001b[1;33m(\u001b[0m\u001b[0mtraining_number\u001b[0m\u001b[1;33m/\u001b[0m\u001b[0mbatch_size\u001b[0m\u001b[1;33m)\u001b[0m\u001b[1;33m)\u001b[0m\u001b[1;33m:\u001b[0m\u001b[1;33m\u001b[0m\u001b[0m\n\u001b[1;32m---> 10\u001b[1;33m         \u001b[0mbatch_count\u001b[0m \u001b[1;33m=\u001b[0m \u001b[0mint\u001b[0m\u001b[1;33m(\u001b[0m\u001b[0mx_data\u001b[0m\u001b[1;33m.\u001b[0m\u001b[0mshape\u001b[0m\u001b[1;33m[\u001b[0m\u001b[1;36m0\u001b[0m\u001b[1;33m]\u001b[0m\u001b[1;33m/\u001b[0m\u001b[0mbatch_size\u001b[0m\u001b[1;33m)\u001b[0m\u001b[1;33m\u001b[0m\u001b[0m\n\u001b[0m\u001b[0;32m     11\u001b[0m \u001b[1;33m\u001b[0m\u001b[0m\n\u001b[0;32m     12\u001b[0m         \u001b[1;32mfor\u001b[0m \u001b[0mi\u001b[0m \u001b[1;32min\u001b[0m \u001b[0mrange\u001b[0m\u001b[1;33m(\u001b[0m\u001b[0mbatch_count\u001b[0m\u001b[1;33m)\u001b[0m\u001b[1;33m:\u001b[0m\u001b[1;33m\u001b[0m\u001b[0m\n",
      "\u001b[1;31mAttributeError\u001b[0m: 'list' object has no attribute 'shape'"
     ]
    }
   ],
   "source": [
    "# Launch graph\n",
    "\n",
    "batch_size = 200\n",
    "\n",
    "cost_history = []\n",
    "with tf.Session() as sess:\n",
    "    sess.run(tf.global_variables_initializer())\n",
    "\n",
    "    for epoch in range(int(training_number/batch_size)):\n",
    "        batch_count = int(x_data.shape[0]/batch_size)\n",
    "        \n",
    "        for i in range(batch_count):\n",
    "    \n",
    "            batch_xs, batch_ys = x_data[i* batch_size: i*batch_size+batch_size], y_data_one_hot[i*batch_size:i*batch_size+batch_size]\n",
    "        \n",
    "            sess.run(optimizer, feed_dict={X: batch_xs, Y: batch_ys})\n",
    "\n",
    "            curr_cost = sess.run(cost, feed_dict={X: batch_xs, Y: batch_ys})\n",
    "            \n",
    "            \n",
    "        if epoch % 10 == 0:    \n",
    "            print(epoch, curr_cost)\n",
    "            cost_history.append(curr_cost)\n",
    "                                \n",
    "                                \n",
    "    print(\"Accuracy: \", accuracy.eval(session=sess, feed_dict={X: x_data, Y: y_data_one_hot}))\n"
   ]
  },
  {
   "cell_type": "code",
   "execution_count": null,
   "metadata": {},
   "outputs": [],
   "source": []
  }
 ],
 "metadata": {
  "kernelspec": {
   "display_name": "Python 3",
   "language": "python",
   "name": "python3"
  },
  "language_info": {
   "codemirror_mode": {
    "name": "ipython",
    "version": 3
   },
   "file_extension": ".py",
   "mimetype": "text/x-python",
   "name": "python",
   "nbconvert_exporter": "python",
   "pygments_lexer": "ipython3",
   "version": "3.5.5"
  }
 },
 "nbformat": 4,
 "nbformat_minor": 2
}
