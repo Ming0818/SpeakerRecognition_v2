{
 "cells": [
  {
   "cell_type": "code",
   "execution_count": 1,
   "metadata": {},
   "outputs": [],
   "source": [
    "import os\n",
    "import numpy as np\n",
    "import matplotlib.pyplot as plt\n",
    "import librosa\n",
    "import librosa.display\n",
    "import IPython.display\n",
    "import tensorflow as tf"
   ]
  },
  {
   "cell_type": "code",
   "execution_count": 2,
   "metadata": {},
   "outputs": [
    {
     "name": "stdout",
     "output_type": "stream",
     "text": [
      "(50, 20, 862)\n",
      "(50, 20, 862)\n",
      "(50, 20, 862)\n",
      "(50, 20, 862)\n",
      "(50, 20, 862)\n",
      "(50, 20, 862)\n",
      "(50, 20, 862)\n",
      "(50, 20, 862)\n",
      "(50, 20, 862)\n",
      "(50, 20, 862)\n"
     ]
    }
   ],
   "source": [
    "\n",
    "data_path = './data/'\n",
    "training_number = 40\n",
    "item_num = 50\n",
    "nb_classes = 10\n",
    "test_num = 10\n",
    "\n",
    "x_data_raw = [None] * nb_classes\n",
    "y_data_raw = [None] * nb_classes\n",
    "for sub_path in range(nb_classes):\n",
    "    x_data_raw[sub_path] = []\n",
    "    y_data_raw[sub_path] = []\n",
    "    for i in range(item_num):\n",
    "        filename = data_path + str(sub_path) + '/' + \"input\" + str(i + 1) + '.wav'\n",
    "        if os.path.exists(filename):\n",
    "            raw, sr = librosa.load(filename, sr=None)\n",
    "            x_data_raw[sub_path].append(librosa.feature.mfcc(y=raw, sr=sr))\n",
    "            y_data_raw[sub_path].append(sub_path)\n",
    "    print(np.shape(x_data_raw[sub_path]))"
   ]
  },
  {
   "cell_type": "code",
   "execution_count": 4,
   "metadata": {},
   "outputs": [
    {
     "name": "stdout",
     "output_type": "stream",
     "text": [
      "(10, 50, 20, 862)\n",
      "(10, 50)\n"
     ]
    },
    {
     "name": "stderr",
     "output_type": "stream",
     "text": [
      "D:\\Utilities\\Anaconda3\\envs\\tensorflow\\lib\\site-packages\\tensorflow\\python\\client\\session.py:1711: UserWarning: An interactive session is already active. This can cause out-of-memory errors in some cases. You must explicitly call `InteractiveSession.close()` to release resources held by the other session(s).\n",
      "  warnings.warn('An interactive session is already active. This can '\n"
     ]
    }
   ],
   "source": [
    "\n",
    "#96 X 431 사이즈\n",
    "tf.InteractiveSession().as_default()\n",
    "tf.tables_initializer().run()\n",
    "\n",
    "#train, test set 분할\n",
    "x_data = np.array(x_data_raw)\n",
    "y_data = np.array(y_data_raw)\n",
    "x_train = []\n",
    "y_train = []\n",
    "x_test = []\n",
    "y_test = []\n",
    "\n",
    "print(np.shape(x_data))\n",
    "print(np.shape(y_data))\n",
    "\n"
   ]
  },
  {
   "cell_type": "code",
   "execution_count": 5,
   "metadata": {},
   "outputs": [
    {
     "name": "stdout",
     "output_type": "stream",
     "text": [
      "(10, 40, 20, 862)\n",
      "(10, 40)\n",
      "(10, 10, 20, 862)\n",
      "(10, 10)\n"
     ]
    }
   ],
   "source": [
    "for i in range(nb_classes):\n",
    "    x_train.append(x_data[i][:training_number])\n",
    "    y_train.append(y_data[i][:training_number])\n",
    "    x_test.append(x_data[i][training_number:training_number+test_num])\n",
    "    y_test.append(y_data[i][training_number:training_number+test_num])\n",
    "\n",
    "print(np.shape(x_train))\n",
    "print(np.shape(y_train))\n",
    "print(np.shape(x_test))\n",
    "print(np.shape(y_test))"
   ]
  },
  {
   "cell_type": "code",
   "execution_count": 6,
   "metadata": {},
   "outputs": [],
   "source": [
    "\n",
    "def shuffle(x, y):\n",
    "    randomize = np.arange(len(x))\n",
    "    np.random.shuffle(randomize)\n",
    "    x = x[randomize]\n",
    "    y = y[randomize]\n",
    "    return x,y\n",
    "\n",
    "def reshape(x_data, y_data):\n",
    "    #x_data = np.array(x_data)\n",
    "    #y_data = np.array(y_data)\n",
    "    x_data = np.reshape(x_data, (-1, 20, 862))\n",
    "    y_data = np.reshape(y_data, (-1))\n",
    "    y_data_one_hot = tf.one_hot(y_data, nb_classes)\n",
    "    y_data_one_hot = y_data_one_hot.eval()\n",
    "    return x_data, y_data_one_hot"
   ]
  },
  {
   "cell_type": "code",
   "execution_count": 7,
   "metadata": {},
   "outputs": [
    {
     "name": "stdout",
     "output_type": "stream",
     "text": [
      "(400, 20, 862)\n",
      "(400, 10)\n",
      "(100, 20, 862)\n",
      "(100, 10)\n"
     ]
    }
   ],
   "source": [
    "\n",
    "#reshape\n",
    "\n",
    "x_train, y_train = reshape(x_train, y_train)\n",
    "x_test, y_test = reshape(x_test, y_test)\n",
    "\n",
    "print(np.shape(x_train))\n",
    "print(np.shape(y_train))\n",
    "print(np.shape(x_test))\n",
    "print(np.shape(y_test))\n",
    "\n",
    "\n"
   ]
  },
  {
   "cell_type": "code",
   "execution_count": 8,
   "metadata": {},
   "outputs": [
    {
     "name": "stdout",
     "output_type": "stream",
     "text": [
      "(400, 17240)\n",
      "(400, 10)\n",
      "(100, 17240)\n",
      "(100, 10)\n"
     ]
    }
   ],
   "source": [
    "x_train = np.reshape(x_train, (400, -1))\n",
    "x_test = np.reshape(x_test, (100, -1))\n",
    "\n",
    "print(np.shape(x_train))\n",
    "print(np.shape(y_train))\n",
    "\n",
    "print(np.shape(x_test))\n",
    "print(np.shape(y_test))"
   ]
  },
  {
   "cell_type": "code",
   "execution_count": 9,
   "metadata": {},
   "outputs": [],
   "source": [
    "\n",
    "#shuffle\n",
    "#x_train, y_train = shuffle(x_train, y_train)\n",
    "#x_test, y_test = shuffle(x_test, y_test)\n",
    "\n",
    "# CNN (3 Conv + MP) + 1 FCN + 1 Output\n",
    "learning_rate = 0.001\n",
    "keep_prob = tf.placeholder(tf.float32)\n",
    "\n",
    "with tf.variable_scope(\"mfcc-cnn-model-03\") as scope:\n",
    "    tf.variable_scope(scope, reuse=True)\n",
    "\n",
    "    # Input Audio data of shape 20 * 862 = 82752\n",
    "    X = tf.placeholder(tf.float32, [None, 20 * 862])\n",
    "    X_reshaped = tf.reshape(X, [-1, 20, 862, 1])\n",
    "    Y = tf.placeholder(tf.float32, [None, nb_classes])\n",
    "\n",
    "    # Conv 1\n",
    "    W1 = tf.Variable(tf.random_normal([10, 10, 1, 32], stddev=0.01))\n",
    "    L1 = tf.nn.conv2d(X_reshaped, W1, strides=[1, 1, 1, 1], padding='SAME')\n",
    "    L1 = tf.nn.relu(L1)\n",
    "    L1 = tf.nn.max_pool(L1, ksize=[1, 2, 4, 1], strides=[1, 2, 4, 1], padding='SAME')\n",
    "    L1 = tf.nn.dropout(L1, keep_prob=keep_prob)\n",
    "\n",
    "    # L1 ImgIn shape=(?, 20, 862, 1)\n",
    "    #    Conv      ->(?, 20, 862, 32)\n",
    "    #    Pool      ->(?, 10, 216, 32)\n",
    "\n",
    "    # Conv 2\n",
    "    W2 = tf.Variable(tf.random_normal([10, 10, 32, 64], stddev=0.01))\n",
    "    L2 = tf.nn.conv2d(L1, W2, strides=[1, 1, 1, 1], padding='SAME')\n",
    "    L2 = tf.nn.relu(L2)\n",
    "    L2 = tf.nn.max_pool(L2, ksize=[1, 2, 4, 1], strides=[1, 2, 4, 1], padding='SAME')\n",
    "    L2 = tf.nn.dropout(L2, keep_prob=keep_prob)\n",
    "\n",
    "    # L2 ImgIn shape=(?, 10, 216, 32)\n",
    "    #    Conv      ->(?, 10, 216, 64)\n",
    "    #    Pool      ->(?, 5, 54, 64)\n",
    "\n",
    "    # Conv 3\n",
    "    W3 = tf.Variable(tf.random_normal([5, 5, 64, 128], stddev=0.01))\n",
    "    L3 = tf.nn.conv2d(L2, W3, strides=[1, 1, 1, 1], padding='SAME')\n",
    "    L3 = tf.nn.relu(L3)\n",
    "    L3 = tf.nn.max_pool(L3, ksize=[1, 2, 4, 1], strides=[1, 2, 4, 1], padding='SAME')\n",
    "    L3 = tf.nn.dropout(L3, keep_prob=keep_prob)\n",
    "    L3_flat = tf.reshape(L3, [-1, 128 * 3 * 14])\n",
    "\n",
    "    # L3 ImgIn shape=(?, 5, 54, 64)\n",
    "    #    Conv      ->(?, 5, 54, 128)\n",
    "    #    Pool      ->(?, 3, 14, 128)\n",
    "\n",
    "    # FC\n",
    "    W4 = tf.get_variable(\"W4\", shape=[128 * 3 * 14, 256], initializer=tf.contrib.layers.xavier_initializer())\n",
    "    b4 = tf.Variable(tf.random_normal([256]))\n",
    "    L4 = tf.nn.relu(tf.matmul(L3_flat, W4) + b4)\n",
    "    L4 = tf.nn.dropout(L4, keep_prob=keep_prob)\n",
    "\n",
    "    # Output\n",
    "    W5 = tf.get_variable(\"W5\", shape=[256, nb_classes], initializer=tf.contrib.layers.xavier_initializer())\n",
    "    b5 = tf.Variable(tf.random_normal([nb_classes]))\n",
    "    logits = tf.matmul(L4, W5) + b5\n"
   ]
  },
  {
   "cell_type": "code",
   "execution_count": 10,
   "metadata": {},
   "outputs": [
    {
     "name": "stdout",
     "output_type": "stream",
     "text": [
      "WARNING:tensorflow:From <ipython-input-10-fcc1039df7e5>:3: softmax_cross_entropy_with_logits (from tensorflow.python.ops.nn_ops) is deprecated and will be removed in a future version.\n",
      "Instructions for updating:\n",
      "\n",
      "Future major versions of TensorFlow will allow gradients to flow\n",
      "into the labels input on backprop by default.\n",
      "\n",
      "See @{tf.nn.softmax_cross_entropy_with_logits_v2}.\n",
      "\n"
     ]
    }
   ],
   "source": [
    "\n",
    "#여기서 부터 보자\n",
    "cost = tf.reduce_mean(tf.nn.softmax_cross_entropy_with_logits(logits=logits, labels=Y))\n",
    "optimizer = tf.train.AdamOptimizer(learning_rate=learning_rate).minimize(cost)\n",
    "\n",
    "# Accuracy\n",
    "is_correct = tf.equal(tf.argmax(logits, 1), tf.argmax(Y, 1))\n",
    "accuracy = tf.reduce_mean(tf.cast(is_correct, tf.float32))\n",
    "\n",
    "\n"
   ]
  },
  {
   "cell_type": "code",
   "execution_count": null,
   "metadata": {},
   "outputs": [
    {
     "name": "stdout",
     "output_type": "stream",
     "text": [
      "400\n",
      "0 3.7080884\n",
      "1 3.1751244\n",
      "2 3.0347557\n",
      "3 2.755699\n",
      "4 2.4245834\n",
      "5 2.5402923\n",
      "6 2.6801457\n",
      "7 2.408071\n",
      "8 2.5112667\n",
      "9 2.4168916\n",
      "10 2.5661771\n"
     ]
    }
   ],
   "source": [
    "\n",
    "# Launch graph\n",
    "cost_history = []\n",
    "num_data = len(x_train)\n",
    "print(num_data)\n",
    "\n",
    "\n",
    "training_number = 30\n",
    "batch_size = 20\n",
    "\n",
    "cost_history = []\n",
    "with tf.Session() as sess:\n",
    "    sess.run(tf.global_variables_initializer())\n",
    "\n",
    "    for epoch in range(int(training_number)):\n",
    "        batch_count = int(x_train.shape[0]/batch_size)\n",
    "        \n",
    "        curr_cost = 0\n",
    "        \n",
    "        for i in range(batch_count):\n",
    "    \n",
    "            batch_xs, batch_ys = x_train[i* batch_size: i*batch_size+batch_size], y_train[i*batch_size:i*batch_size+batch_size]\n",
    "            sess.run(optimizer, feed_dict={X: batch_xs, Y: batch_ys, keep_prob: 0.7})\n",
    "            curr_cost = sess.run(cost, feed_dict={X: batch_xs, Y: batch_ys, keep_prob: 0.7})\n",
    "            \n",
    "            \n",
    "        print(epoch, curr_cost)\n",
    "        cost_history.append(curr_cost)\n",
    "                                \n",
    "                                \n",
    "    print(\"Accuracy: \", accuracy.eval(session=sess, feed_dict={X: x_test[0:batch_size], Y: y_test[0:batch_size], keep_prob: 1}))\n",
    "    print(\"Accuracy: \", accuracy.eval(session=sess, feed_dict={X: x_train[0:batch_size], Y: y_train[0:batch_size], keep_prob: 1}))"
   ]
  },
  {
   "cell_type": "code",
   "execution_count": null,
   "metadata": {},
   "outputs": [],
   "source": []
  }
 ],
 "metadata": {
  "kernelspec": {
   "display_name": "Python 3",
   "language": "python",
   "name": "python3"
  }
 },
 "nbformat": 4,
 "nbformat_minor": 2
}
