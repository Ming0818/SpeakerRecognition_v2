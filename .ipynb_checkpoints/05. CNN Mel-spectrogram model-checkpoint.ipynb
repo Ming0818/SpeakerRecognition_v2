{
 "cells": [
  {
   "cell_type": "code",
   "execution_count": 1,
   "metadata": {},
   "outputs": [],
   "source": [
    "import os\n",
    "import numpy as np\n",
    "import matplotlib.pyplot as plt\n",
    "import librosa\n",
    "import librosa.display\n",
    "import IPython.display\n",
    "import tensorflow as tf\n"
   ]
  },
  {
   "cell_type": "code",
   "execution_count": 2,
   "metadata": {},
   "outputs": [],
   "source": [
    "\n",
    "def shuffle(x, y):\n",
    "    randomize = np.arange(len(x))\n",
    "    np.random.shuffle(randomize)\n",
    "    x = x[randomize]\n",
    "    y = y[randomize]\n",
    "    return x,y\n",
    "\n",
    "def reshape(x_data, y_data):\n",
    "    #x_data = np.array(x_data)\n",
    "    #y_data = np.array(y_data)\n",
    "    x_data = np.reshape(x_data, (-1, 96, 431))\n",
    "    y_data = np.reshape(y_data, (-1))\n",
    "    y_data_one_hot = tf.one_hot(y_data, nb_classes)\n",
    "    y_data_one_hot = y_data_one_hot.eval()\n",
    "    return x_data, y_data_one_hot"
   ]
  },
  {
   "cell_type": "code",
   "execution_count": 3,
   "metadata": {},
   "outputs": [
    {
     "name": "stdout",
     "output_type": "stream",
     "text": [
      "(100, 96, 431)\n",
      "(100, 96, 431)\n",
      "(100, 96, 431)\n",
      "(100, 96, 431)\n",
      "(100, 96, 431)\n",
      "(100, 96, 431)\n",
      "(100, 96, 431)\n",
      "(100, 96, 431)\n",
      "(100, 96, 431)\n",
      "(100, 96, 431)\n",
      "(100, 96, 431)\n",
      "(100, 96, 431)\n",
      "(100, 96, 431)\n",
      "(100, 96, 431)\n",
      "(100, 96, 431)\n",
      "(100, 96, 431)\n"
     ]
    }
   ],
   "source": [
    "\n",
    "data_path = './data/'\n",
    "training_data_num = 90\n",
    "test_data_num = 10\n",
    "\n",
    "item_num = 100\n",
    "nb_classes = 16\n",
    "\n",
    "x_data = [None] * nb_classes\n",
    "y_data = [None] * nb_classes\n",
    "for sub_path in range(nb_classes):\n",
    "    x_data[sub_path] = []\n",
    "    y_data[sub_path] = []\n",
    "    for i in range(item_num):\n",
    "        filename = data_path + str(sub_path) + '/' + \"input\" + str(i + 1) + '.wav'\n",
    "        if os.path.exists(filename):\n",
    "            raw, sr = librosa.load(filename, sr=None)\n",
    "            x_data[sub_path].append(librosa.feature.melspectrogram(y=raw, sr=sr, n_mels=96, fmax=18000))\n",
    "            y_data[sub_path].append(sub_path)\n",
    "    print(np.shape(x_data[sub_path]))\n"
   ]
  },
  {
   "cell_type": "code",
   "execution_count": 4,
   "metadata": {},
   "outputs": [
    {
     "name": "stdout",
     "output_type": "stream",
     "text": [
      "(16, 100, 96, 431)\n",
      "(16, 100)\n"
     ]
    }
   ],
   "source": [
    "\n",
    "#96 X 431 사이즈\n",
    "tf.InteractiveSession().as_default()\n",
    "tf.tables_initializer().run()\n",
    "\n",
    "#train, test set 분할\n",
    "x_data = np.array(x_data)\n",
    "y_data = np.array(y_data)\n",
    "x_train = []\n",
    "y_train = []\n",
    "x_test = []\n",
    "y_test = []\n",
    "\n",
    "print(np.shape(x_data))\n",
    "print(np.shape(y_data))\n",
    "\n"
   ]
  },
  {
   "cell_type": "code",
   "execution_count": 5,
   "metadata": {},
   "outputs": [
    {
     "name": "stdout",
     "output_type": "stream",
     "text": [
      "(16, 90, 96, 431)\n",
      "(16, 90)\n",
      "(16, 10, 96, 431)\n",
      "(16, 10)\n"
     ]
    }
   ],
   "source": [
    "\n",
    "for i in range(nb_classes):\n",
    "    x_train.append(x_data[i][:training_data_num])\n",
    "    y_train.append(y_data[i][:training_data_num])\n",
    "    x_test.append(x_data[i][training_data_num:training_data_num+test_data_num])\n",
    "    y_test.append(y_data[i][training_data_num:training_data_num+test_data_num])\n",
    "\n",
    "print(np.shape(x_train))\n",
    "print(np.shape(y_train))\n",
    "print(np.shape(x_test))\n",
    "print(np.shape(y_test))"
   ]
  },
  {
   "cell_type": "code",
   "execution_count": 6,
   "metadata": {},
   "outputs": [
    {
     "name": "stdout",
     "output_type": "stream",
     "text": [
      "(1440, 96, 431)\n",
      "(1440, 16)\n",
      "(160, 96, 431)\n",
      "(160, 16)\n"
     ]
    }
   ],
   "source": [
    "\n",
    "#reshape\n",
    "\n",
    "\n",
    "\n",
    "x_train, y_train = reshape(x_train, y_train)\n",
    "x_test, y_test = reshape(x_test, y_test)\n",
    "\n",
    "print(np.shape(x_train))\n",
    "print(np.shape(y_train))\n",
    "print(np.shape(x_test))\n",
    "print(np.shape(y_test))\n",
    "\n",
    "\n"
   ]
  },
  {
   "cell_type": "code",
   "execution_count": 7,
   "metadata": {},
   "outputs": [
    {
     "name": "stdout",
     "output_type": "stream",
     "text": [
      "(1440, 41376)\n",
      "(160, 41376)\n"
     ]
    }
   ],
   "source": [
    "x_train = np.reshape(x_train, (training_data_num * nb_classes, -1))\n",
    "x_test = np.reshape(x_test, (test_data_num* nb_classes, -1))\n",
    "\n",
    "print(np.shape(x_train))\n",
    "print(np.shape(x_test))"
   ]
  },
  {
   "cell_type": "code",
   "execution_count": 13,
   "metadata": {},
   "outputs": [],
   "source": [
    "\n",
    "#shuffle\n",
    "#x_train, y_train = shuffle(x_train, y_train)\n",
    "#x_test, y_test = shuffle(x_test, y_test)\n",
    "\n",
    "# CNN (3 Conv + MP) + 1 FCN + 1 Output\n",
    "learning_rate = 0.001\n",
    "keep_prob = tf.placeholder(tf.float32)\n",
    "\n",
    "with tf.variable_scope(\"mel-spectrogram-cnn-model-03\") as scope:\n",
    "    tf.variable_scope(scope, reuse=True)\n",
    "\n",
    "    # Input Audio data of shape 96 * 431 = 41376\n",
    "    X = tf.placeholder(tf.float32, [None, 96 * 431])\n",
    "    X_reshaped = tf.reshape(X, [-1, 96, 431, 1])\n",
    "    Y = tf.placeholder(tf.float32, [None, nb_classes])\n",
    "\n",
    "    # Conv 1\n",
    "    W1 = tf.Variable(tf.random_normal([10, 10, 1, 32], stddev=0.01))\n",
    "    L1 = tf.nn.conv2d(X_reshaped, W1, strides=[1, 1, 1, 1], padding='SAME')\n",
    "    L1 = tf.nn.relu(L1)\n",
    "    L1 = tf.nn.max_pool(L1, ksize=[1, 2, 4, 1], strides=[1, 2, 4, 1], padding='SAME')\n",
    "    L1 = tf.nn.dropout(L1, keep_prob=keep_prob)\n",
    "\n",
    "    # L1 ImgIn shape=(?, 96, 431, 1)\n",
    "    #    Conv      ->(?, 96, 431, 32)\n",
    "    #    Pool      ->(?, 48, 108, 32)\n",
    "\n",
    "    # Conv 2\n",
    "    W2 = tf.Variable(tf.random_normal([10, 10, 32, 64], stddev=0.01))\n",
    "    L2 = tf.nn.conv2d(L1, W2, strides=[1, 1, 1, 1], padding='SAME')\n",
    "    L2 = tf.nn.relu(L2)\n",
    "    L2 = tf.nn.max_pool(L2, ksize=[1, 2, 4, 1], strides=[1, 2, 4, 1], padding='SAME')\n",
    "    L2 = tf.nn.dropout(L2, keep_prob=keep_prob)\n",
    "\n",
    "    # L2 ImgIn shape=(?, 48, 108, 32)\n",
    "    #    Conv      ->(?, 48, 108, 64)\n",
    "    #    Pool      ->(?, 24, 27, 64)\n",
    "\n",
    "    # Conv 3\n",
    "    W3 = tf.Variable(tf.random_normal([5, 5, 64, 128], stddev=0.01))\n",
    "    L3 = tf.nn.conv2d(L2, W3, strides=[1, 1, 1, 1], padding='SAME')\n",
    "    L3 = tf.nn.relu(L3)\n",
    "    L3 = tf.nn.max_pool(L3, ksize=[1, 2, 4, 1], strides=[1, 2, 4, 1], padding='SAME')\n",
    "    L3 = tf.nn.dropout(L3, keep_prob=keep_prob)\n",
    "    L3_flat = tf.reshape(L3, [-1, 128 * 12 * 7])\n",
    "\n",
    "    # L3 ImgIn shape=(?, 24, 27, 64)\n",
    "    #    Conv      ->(?, 24, 27, 128)\n",
    "    #    Pool      ->(?, 12, 7, 128)\n",
    "\n",
    "    # FC\n",
    "    W4 = tf.get_variable(\"W4\", shape=[128 * 12 * 7, 256], initializer=tf.contrib.layers.xavier_initializer())\n",
    "    b4 = tf.Variable(tf.random_normal([256]))\n",
    "    L4 = tf.nn.relu(tf.matmul(L3_flat, W4) + b4)\n",
    "    L4 = tf.nn.dropout(L4, keep_prob=keep_prob)\n",
    "\n",
    "    # Output\n",
    "    W5 = tf.get_variable(\"W5\", shape=[256, nb_classes], initializer=tf.contrib.layers.xavier_initializer())\n",
    "    b5 = tf.Variable(tf.random_normal([nb_classes]))\n",
    "    logits = tf.matmul(L4, W5) + b5\n"
   ]
  },
  {
   "cell_type": "code",
   "execution_count": 14,
   "metadata": {},
   "outputs": [
    {
     "name": "stdout",
     "output_type": "stream",
     "text": [
      "1440\n"
     ]
    }
   ],
   "source": [
    "\n",
    "#여기서 부터 보자\n",
    "cost = tf.reduce_mean(tf.nn.softmax_cross_entropy_with_logits(logits=logits, labels=Y))\n",
    "optimizer = tf.train.AdamOptimizer(learning_rate=learning_rate).minimize(cost)\n",
    "\n",
    "# Accuracy\n",
    "is_correct = tf.equal(tf.argmax(logits, 1), tf.argmax(Y, 1))\n",
    "accuracy = tf.reduce_mean(tf.cast(is_correct, tf.float32))\n",
    "\n",
    "# Launch graph\n",
    "cost_history = []\n",
    "num_data = len(x_train)\n",
    "batch_size = test_data_num\n",
    "print(num_data)\n"
   ]
  },
  {
   "cell_type": "code",
   "execution_count": 20,
   "metadata": {},
   "outputs": [
    {
     "name": "stdout",
     "output_type": "stream",
     "text": [
      "0 4.239415\n",
      "1 1.8876196\n",
      "2 2.7088115\n",
      "3 0.15714921\n",
      "4 0.1139466\n",
      "5 1.032181\n",
      "6 0.02250865\n",
      "7 3.5263934\n",
      "8 3.0844913\n",
      "9 0.8059994\n",
      "10 0.7550613\n",
      "11 3.1366293\n",
      "12 2.5977256\n",
      "13 2.4842522\n",
      "14 2.2709749\n",
      "15 2.1269817\n",
      "16 2.1768003\n",
      "17 1.957407\n",
      "18 1.3703188\n",
      "19 1.6527195\n",
      "20 1.102517\n",
      "21 1.4753987\n",
      "22 1.0972327\n",
      "23 1.4219475\n",
      "24 1.2669519\n",
      "25 1.0486939\n",
      "26 1.208971\n",
      "27 0.60029644\n",
      "28 0.22856283\n",
      "29 0.60667723\n",
      "30 0.51896363\n",
      "31 0.7701102\n",
      "32 0.32326448\n",
      "33 0.39590663\n",
      "34 0.70731455\n",
      "35 0.84710395\n",
      "36 1.0282003\n",
      "37 0.77198553\n",
      "38 0.69901055\n",
      "39 0.74880016\n",
      "40 0.4047803\n",
      "41 0.7665083\n",
      "42 0.61542547\n",
      "43 0.2784921\n",
      "44 0.37063986\n",
      "45 0.31765375\n",
      "46 0.08024404\n",
      "47 0.35776177\n",
      "48 0.03309276\n",
      "49 0.44598356\n",
      "Accuracy:  0.3\n",
      "Accuracy:  0.9\n",
      "Accuracy:  0.9\n",
      "Accuracy:  0.85\n",
      "Accuracy:  0.75\n",
      "Accuracy:  0.9\n",
      "Accuracy:  0.95\n",
      "Accuracy:  0.9\n",
      "\n",
      "Total Accuracy:  0.8062499910593033\n"
     ]
    }
   ],
   "source": [
    "\n",
    "training_number = 50\n",
    "batch_size = 20\n",
    "\n",
    "cost_history = []\n",
    "sess = tf.Session()\n",
    "sess.run(tf.global_variables_initializer())\n",
    "\n",
    "for epoch in range(int(training_number)):\n",
    "    batch_count = int(x_train.shape[0]/batch_size)\n",
    "        \n",
    "    curr_cost = 0\n",
    "        \n",
    "    for i in range(batch_count):\n",
    "    \n",
    "        batch_xs, batch_ys = x_train[i* batch_size: i*batch_size+batch_size], y_train[i*batch_size:i*batch_size+batch_size]\n",
    "        sess.run(optimizer, feed_dict={X: batch_xs, Y: batch_ys, keep_prob: 0.7})\n",
    "        curr_cost = sess.run(cost, feed_dict={X: batch_xs, Y: batch_ys, keep_prob: 0.7})\n",
    "            \n",
    "            \n",
    "    print(epoch, curr_cost)\n",
    "    cost_history.append(curr_cost)\n",
    "                                \n",
    "                    \n",
    "test_batch_count = int(x_test.shape[0]/batch_size)\n",
    "\n",
    "total_accuracy =0\n",
    "\n",
    "for i in range(test_batch_count):\n",
    "    print(\"Accuracy: \", accuracy.eval(session=sess, feed_dict={X: x_test[i* batch_size: i*batch_size+batch_size], Y: y_test[i*batch_size:i*batch_size+batch_size], keep_prob: 1}))\n",
    "    total_accuracy += accuracy.eval(session=sess, feed_dict={X: x_test[i* batch_size: i*batch_size+batch_size], Y: y_test[i*batch_size:i*batch_size+batch_size], keep_prob: 1})\n",
    "    \n",
    "print(\"\\nTotal Accuracy: \", total_accuracy  / test_batch_count)\n",
    "    "
   ]
  },
  {
   "cell_type": "code",
   "execution_count": null,
   "metadata": {},
   "outputs": [],
   "source": [
    "\n",
    "training_number = 50\n",
    "batch_size = 20\n",
    "\n",
    "cost_history = []\n",
    "with tf.Session() as sess:\n",
    "    sess.run(tf.global_variables_initializer())\n",
    "\n",
    "    for epoch in range(int(training_number)):\n",
    "        batch_count = int(x_train.shape[0]/batch_size)\n",
    "        \n",
    "        curr_cost = 0\n",
    "        \n",
    "        for i in range(batch_count):\n",
    "    \n",
    "            batch_xs, batch_ys = x_train[i* batch_size: i*batch_size+batch_size], y_train[i*batch_size:i*batch_size+batch_size]\n",
    "            sess.run(optimizer, feed_dict={X: batch_xs, Y: batch_ys, keep_prob: 0.7})\n",
    "            curr_cost = sess.run(cost, feed_dict={X: batch_xs, Y: batch_ys, keep_prob: 0.7})\n",
    "            \n",
    "            \n",
    "        print(epoch, curr_cost)\n",
    "        cost_history.append(curr_cost)\n",
    "                                \n",
    "                                \n",
    "    print(\"Accuracy: \", accuracy.eval(session=sess, feed_dict={X: x_test[0:batch_size], Y: y_test[0:batch_size], keep_prob: 1}))"
   ]
  },
  {
   "cell_type": "code",
   "execution_count": 21,
   "metadata": {},
   "outputs": [
    {
     "name": "stdout",
     "output_type": "stream",
     "text": [
      "(20, 82752)\n",
      "(20, 10)\n",
      "[1. 0. 0. 0. 0. 0. 0. 0. 0. 0.]\n"
     ]
    }
   ],
   "source": [
    "print(np.shape(x_test[0:batch_size]))\n",
    "print(np.shape(y_test[0:batch_size]))\n",
    "\n",
    "print(y_test[0:batch_size][0])"
   ]
  },
  {
   "cell_type": "code",
   "execution_count": null,
   "metadata": {},
   "outputs": [],
   "source": []
  }
 ],
 "metadata": {
  "kernelspec": {
   "display_name": "Python 3",
   "language": "python",
   "name": "python3"
  },
  "language_info": {
   "codemirror_mode": {
    "name": "ipython",
    "version": 3
   },
   "file_extension": ".py",
   "mimetype": "text/x-python",
   "name": "python",
   "nbconvert_exporter": "python",
   "pygments_lexer": "ipython3",
   "version": "3.5.5"
  }
 },
 "nbformat": 4,
 "nbformat_minor": 2
}
