{
 "cells": [
  {
   "cell_type": "code",
   "execution_count": 1,
   "metadata": {},
   "outputs": [],
   "source": [
    "import os\n",
    "import subprocess\n",
    "import shutil\n",
    "import pytube\n",
    "import librosa\n"
   ]
  },
  {
   "cell_type": "code",
   "execution_count": 2,
   "metadata": {},
   "outputs": [],
   "source": [
    "\n",
    "#하나의 파일에 대한 다운로드와 분할\n",
    "def download(link, num):\n",
    "    yt = pytube.YouTube(link)  # 다운받을 동영상 URL 지정\n",
    "    vids = yt.streams.all()\n",
    "\n",
    "    # 영상 형식 리스트 확인\n",
    "    # for i in range(len(vids)):\n",
    "    #    print(i, '. ', vids[i])\n",
    "\n",
    "    # 저장 경로 지정(Windows or mac)\n",
    "    parent_dir = \"D:\\\\Projects\\\\DeepLearning\\\\SpeackerRecognition\\\\data\\\\\" + num\n",
    "\n",
    "    if os.path.exists(parent_dir):  # 이미 존재하는 경우, 삭제를 할까..\n",
    "        try:\n",
    "            shutil.rmtree(parent_dir)\n",
    "        except OSError as e:\n",
    "            if e.errno == 2:\n",
    "                print  # 파일이나 디렉토리가 없음!\n",
    "                'No such file or directory to remove'\n",
    "                pass\n",
    "            else:\n",
    "                raise\n",
    "\n",
    "    # 디렉터리 생성\n",
    "    os.mkdir(parent_dir)\n",
    "\n",
    "    vnum = 1\n",
    "\n",
    "    # 다운로드 수행\n",
    "    vids[vnum].download(parent_dir)\n",
    "\n",
    "    # 파일 변환\n",
    "    new_filename = num + '.wav'\n",
    "    default_filename = vids[vnum].default_filename\n",
    "\n",
    "    # cmd 명령어 수행\n",
    "    subprocess.call(\n",
    "        ['ffmpeg', '-i', os.path.join(parent_dir, default_filename), os.path.join(parent_dir, new_filename)])\n",
    "\n",
    "    print(num + '번 동영상 다운로드 및 mp3 변환 완료!')\n"
   ]
  },
  {
   "cell_type": "code",
   "execution_count": 3,
   "metadata": {},
   "outputs": [
    {
     "data": {
      "text/plain": [
       "16"
      ]
     },
     "execution_count": 3,
     "metadata": {},
     "output_type": "execute_result"
    }
   ],
   "source": [
    "#유투브 링크\n",
    "link = [ \n",
    "    \"https://www.youtube.com/watch?v=bsFZpLNwueY\", #0\n",
    "    \"https://www.youtube.com/watch?v=SmNMCkcDt7A\", #1\n",
    "    \"https://www.youtube.com/watch?v=3aI2CIJesYI\", #2\n",
    "    \"https://www.youtube.com/watch?v=eWuhpUBRdZ8\", #3\n",
    "    \"https://www.youtube.com/watch?v=88EuPFPnFyg\", #4\n",
    "    \"https://www.youtube.com/watch?v=O5aafWKmyUU\", #5\n",
    "    \"https://www.youtube.com/watch?v=IT43H9tX1H8\", #6\n",
    "    \"https://www.youtube.com/watch?v=aWE7t_0OEtY\", #7\n",
    "    \"https://www.youtube.com/watch?v=CVC8NvU95cE\", #8\n",
    "    \"https://www.youtube.com/watch?v=4UYAXGWJDQc\", #9\n",
    "    \"https://www.youtube.com/watch?v=Fv1EYJZtlTg\", #10\n",
    "    \"https://www.youtube.com/watch?v=rKH-R8HHTdI\", #11\n",
    "    \"https://www.youtube.com/watch?v=roqUMlRQ7wA\", #12\n",
    "    \"https://www.youtube.com/watch?v=DacYlxCe80M\", #13\n",
    "    \"https://www.youtube.com/watch?v=98GDDl2TFUc\", #14\n",
    "    \"https://www.youtube.com/watch?v=iZyvkkdcu74\"] #15\n",
    "\n",
    "len(link)"
   ]
  },
  {
   "cell_type": "code",
   "execution_count": 4,
   "metadata": {},
   "outputs": [
    {
     "name": "stdout",
     "output_type": "stream",
     "text": [
      "14번 동영상 다운로드 및 mp3 변환 완료!\n",
      "14번 파일 분할 완료!100개 파일 생성\n"
     ]
    }
   ],
   "source": [
    "#자르기를 시작하는 위치\n",
    "offset = 300\n",
    "\n",
    "# 자르는 크기\n",
    "duration = 5\n",
    "\n",
    "classes = len(link)\n",
    "\n",
    "\n",
    "#함수 실행\n",
    "for num in range(14,15):\n",
    "    download(link[num], str(num))\n",
    "    \n",
    "    pDir = \"D:\\\\Projects\\\\DeepLearning\\\\SpeackerRecognition\\\\data\\\\\" + str(num) + \"\\\\\"\n",
    "    len = librosa.get_duration(filename=pDir + str(num) + \".wav\")\n",
    "    \n",
    "    iteration = int((len - offset)/duration)\n",
    "\n",
    "    if iteration > 100:\n",
    "        iteration = 100\n",
    "\n",
    "    for j in range(iteration):\n",
    "        y, sr = librosa.load(pDir + str(num) + \".wav\", sr = None, mono = True, offset = offset + j*duration, duration = duration)\n",
    "        librosa.output.write_wav(pDir + \"input\" + str(j+1) + \".wav\", y, sr)\n",
    "\n",
    "    print(str(num) + \"번 파일 분할 완료!\" + str(iteration) + \"개 파일 생성\")"
   ]
  },
  {
   "cell_type": "code",
   "execution_count": null,
   "metadata": {},
   "outputs": [],
   "source": [
    "\n",
    "\n"
   ]
  },
  {
   "cell_type": "code",
   "execution_count": null,
   "metadata": {},
   "outputs": [],
   "source": []
  }
 ],
 "metadata": {
  "kernelspec": {
   "display_name": "Python 3",
   "language": "python",
   "name": "python3"
  },
  "language_info": {
   "codemirror_mode": {
    "name": "ipython",
    "version": 3
   },
   "file_extension": ".py",
   "mimetype": "text/x-python",
   "name": "python",
   "nbconvert_exporter": "python",
   "pygments_lexer": "ipython3",
   "version": "3.5.5"
  }
 },
 "nbformat": 4,
 "nbformat_minor": 2
}
